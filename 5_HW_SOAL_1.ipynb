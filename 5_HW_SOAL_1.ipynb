{
  "nbformat": 4,
  "nbformat_minor": 0,
  "metadata": {
    "colab": {
      "provenance": []
    },
    "kernelspec": {
      "name": "python3",
      "display_name": "Python 3"
    },
    "language_info": {
      "name": "python"
    }
  },
  "cells": [
    {
      "cell_type": "markdown",
      "source": [
        "**1. Buatlah array dari 5 bilangan ganjil pertama (dimulai dari 1)**\n",
        "\n",
        "\n",
        "**Kemudian lakukan perintah berikut :**\n",
        "\n",
        "● Kali-kan array tersebut dengan 10\n",
        "● Bagi-kan array (hasil dari bagian a) dengan 3\n",
        "● Kali-kan array (hasil dari bagian b) dengan array baru :\n",
        "● [-45, 43, 3, 56, 5]\n",
        "● Carilah pada index ke-berapa nilai tertinggi dan terendah dari array (hasil dari bagian c)\n",
        "\n",
        "**Langkah-langkah:**\n",
        "\n",
        "HATI-HATI dalam pengerjaan, karena apabila poin sebelumnya salah, maka selanjutnya akan kebawa salah (misal (b) salah, maka poin (c) sampai (d) akan salah)\n",
        "\n",
        "Untuk array 5 bilangan ganjil pertama boleh manual boleh menggunakan fungsi, dimulai dari 1\n",
        "\n",
        "Ikuti perintah soal, gunakan numpy array, jangan list. Sesuaikan dengan permintaan soal pada setiap butir"
      ],
      "metadata": {
        "id": "mXUhzdffLG3x"
      }
    },
    {
      "cell_type": "code",
      "source": [
        "import numpy as np\n",
        "\n",
        "# Buat array dengan 5 bilangan ganjil pertama\n",
        "array_awal = np.array([1,3,5,7,9])\n",
        "\n",
        "# Kali-kan array dengan 10\n",
        "array_kali_10 = array_awal * 10\n",
        "\n",
        "# Bagikan array (hasil dari bagian a) dengan 3\n",
        "array_bagi_3 = array_kali_10 / 3\n",
        "\n",
        "# Buat array baru\n",
        "array_baru = np.array([-45,43,3,56,5])\n",
        "\n",
        "# Kalikan array (hasil dari bagian b) dengan array baru\n",
        "array_hasil_akhir = array_bagi_3 * array_baru"
      ],
      "metadata": {
        "id": "lJWaHPpqLINp"
      },
      "execution_count": null,
      "outputs": []
    },
    {
      "cell_type": "code",
      "source": [
        "# Cari nilai tertinggi dan terendah beserta indeksnya\n",
        "nilai_tertinggi = np.max(array_hasil_akhir)\n",
        "indeks_tertinggi = np.argmax(array_hasil_akhir)\n",
        "nilai_terendah = np.min(array_hasil_akhir)\n",
        "indeks_terendah = np.argmin(array_hasil_akhir)\n",
        "\n",
        "print(\"Array awal:\", array_awal)\n",
        "print(\"Array dikali 10:\", array_kali_10)\n",
        "print(\"Array dibagi 10:\", array_bagi_3)\n",
        "print(\"Array baru:\", array_baru)\n",
        "print(\"Hasil akhir:\", array_hasil_akhir)\n",
        "print(\"Nilai tertinggi:\", nilai_tertinggi, \"pada indeks ke-\", indeks_tertinggi)\n",
        "print(\"Nilai terendah:\", nilai_terendah, \"pada indeks ke-\", indeks_terendah)"
      ],
      "metadata": {
        "colab": {
          "base_uri": "https://localhost:8080/"
        },
        "id": "TMNcS2CJLdc6",
        "outputId": "ee54cd65-ada0-47e2-c5fa-4e222b988f86"
      },
      "execution_count": null,
      "outputs": [
        {
          "output_type": "stream",
          "name": "stdout",
          "text": [
            "Array awal: [1 3 5 7 9]\n",
            "Array dikali 10: [10 30 50 70 90]\n",
            "Array dibagi 10: [ 3.33333333 10.         16.66666667 23.33333333 30.        ]\n",
            "Array baru: [-45  43   3  56   5]\n",
            "Hasil akhir: [-150.          430.           50.         1306.66666667  150.        ]\n",
            "Nilai tertinggi: 1306.6666666666665 pada indeks ke- 3\n",
            "Nilai terendah: -150.0 pada indeks ke- 0\n"
          ]
        }
      ]
    }
  ]
}